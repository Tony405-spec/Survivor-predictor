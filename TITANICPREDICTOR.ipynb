{
 "cells": [
  {
   "cell_type": "markdown",
   "id": "16fee21a-b681-4dc1-8900-db683d9006ea",
   "metadata": {},
   "source": [
    "# **Titanic-Survival-Predictor**\n",
    "----"
   ]
  },
  {
   "cell_type": "markdown",
   "id": "aadffe14-1fa6-40d3-a937-2dc66ae6d4ba",
   "metadata": {},
   "source": [
    "## Necessary Modules"
   ]
  },
  {
   "cell_type": "markdown",
   "id": "f2238631-7eed-48c1-9dd7-16192cc7b218",
   "metadata": {},
   "source": [
    "### Brings in all the tools for ML: preprocessing, pipelines, feature engineering, clustering, PCA, mutual info, and XGBoost.\n",
    "### Seaborn + matplotlib for quick plots."
   ]
  },
  {
   "cell_type": "code",
   "execution_count": 4,
   "id": "d42d2f96-259b-41a1-a267-48c2573a6c86",
   "metadata": {},
   "outputs": [],
   "source": [
    "!pip install -q xgboost category_encoders joblib shap"
   ]
  },
  {
   "cell_type": "code",
   "execution_count": 5,
   "id": "545c95c9-e696-4de8-8907-029e1be85ef5",
   "metadata": {},
   "outputs": [],
   "source": [
    "import numpy as np\n",
    "import pandas as pd\n",
    "\n",
    "from sklearn.model_selection import train_test_split, cross_val_score, KFold\n",
    "from sklearn.preprocessing import StandardScaler\n",
    "from sklearn.pipeline import Pipeline\n",
    "from sklearn.impute import SimpleImputer\n",
    "from sklearn.compose import ColumnTransformer\n",
    "from sklearn.cluster import KMeans\n",
    "from category_encoders import TargetEncoder\n",
    "from sklearn.decomposition import PCA\n",
    "from sklearn.model_selection import (StratifiedKFold, RandomizedSearchCV,\n",
    "                                     cross_validate)\n",
    "from sklearn.metrics import accuracy_score\n",
    "from sklearn.preprocessing import OneHotEncoder, StandardScaler, OrdinalEncoder\n",
    "from xgboost import XGBClassifier\n",
    "\n",
    "import matplotlib.pyplot as plt\n",
    "import seaborn as sns\n",
    "\n",
    "from sklearn.feature_selection import mutual_info_classif\n"
   ]
  },
  {
   "cell_type": "markdown",
   "id": "54324492-2858-4dce-b4b7-55331527b8d8",
   "metadata": {},
   "source": [
    "## ***Load Data***"
   ]
  },
  {
   "cell_type": "code",
   "execution_count": 7,
   "id": "7a20ae39-0e9c-4fd5-a082-988a2679d1b9",
   "metadata": {},
   "outputs": [
    {
     "name": "stdout",
     "output_type": "stream",
     "text": [
      "TRAIN: train.csv\n",
      "TEST : test.csv\n"
     ]
    }
   ],
   "source": [
    "TRAIN_PATH = \"train.csv\"   # adjust if needed\n",
    "TEST_PATH  = \"test.csv\"\n",
    "\n",
    "\n",
    "print(\"TRAIN:\", TRAIN_PATH)\n",
    "print(\"TEST :\", TEST_PATH)\n"
   ]
  },
  {
   "cell_type": "code",
   "execution_count": 8,
   "id": "15f146db-ee97-4cfd-a0f4-90fa346f8f9e",
   "metadata": {},
   "outputs": [
    {
     "name": "stdout",
     "output_type": "stream",
     "text": [
      "train shape: (891, 12)\n",
      "test  shape: (418, 11)\n"
     ]
    },
    {
     "data": {
      "text/html": [
       "<div>\n",
       "<style scoped>\n",
       "    .dataframe tbody tr th:only-of-type {\n",
       "        vertical-align: middle;\n",
       "    }\n",
       "\n",
       "    .dataframe tbody tr th {\n",
       "        vertical-align: top;\n",
       "    }\n",
       "\n",
       "    .dataframe thead th {\n",
       "        text-align: right;\n",
       "    }\n",
       "</style>\n",
       "<table border=\"1\" class=\"dataframe\">\n",
       "  <thead>\n",
       "    <tr style=\"text-align: right;\">\n",
       "      <th></th>\n",
       "      <th>PassengerId</th>\n",
       "      <th>Survived</th>\n",
       "      <th>Pclass</th>\n",
       "      <th>Name</th>\n",
       "      <th>Sex</th>\n",
       "      <th>Age</th>\n",
       "      <th>SibSp</th>\n",
       "      <th>Parch</th>\n",
       "      <th>Ticket</th>\n",
       "      <th>Fare</th>\n",
       "      <th>Cabin</th>\n",
       "      <th>Embarked</th>\n",
       "    </tr>\n",
       "  </thead>\n",
       "  <tbody>\n",
       "    <tr>\n",
       "      <th>0</th>\n",
       "      <td>1</td>\n",
       "      <td>0</td>\n",
       "      <td>3</td>\n",
       "      <td>Braund, Mr. Owen Harris</td>\n",
       "      <td>male</td>\n",
       "      <td>22.0</td>\n",
       "      <td>1</td>\n",
       "      <td>0</td>\n",
       "      <td>A/5 21171</td>\n",
       "      <td>7.2500</td>\n",
       "      <td>NaN</td>\n",
       "      <td>S</td>\n",
       "    </tr>\n",
       "    <tr>\n",
       "      <th>1</th>\n",
       "      <td>2</td>\n",
       "      <td>1</td>\n",
       "      <td>1</td>\n",
       "      <td>Cumings, Mrs. John Bradley (Florence Briggs Th...</td>\n",
       "      <td>female</td>\n",
       "      <td>38.0</td>\n",
       "      <td>1</td>\n",
       "      <td>0</td>\n",
       "      <td>PC 17599</td>\n",
       "      <td>71.2833</td>\n",
       "      <td>C85</td>\n",
       "      <td>C</td>\n",
       "    </tr>\n",
       "    <tr>\n",
       "      <th>2</th>\n",
       "      <td>3</td>\n",
       "      <td>1</td>\n",
       "      <td>3</td>\n",
       "      <td>Heikkinen, Miss. Laina</td>\n",
       "      <td>female</td>\n",
       "      <td>26.0</td>\n",
       "      <td>0</td>\n",
       "      <td>0</td>\n",
       "      <td>STON/O2. 3101282</td>\n",
       "      <td>7.9250</td>\n",
       "      <td>NaN</td>\n",
       "      <td>S</td>\n",
       "    </tr>\n",
       "    <tr>\n",
       "      <th>3</th>\n",
       "      <td>4</td>\n",
       "      <td>1</td>\n",
       "      <td>1</td>\n",
       "      <td>Futrelle, Mrs. Jacques Heath (Lily May Peel)</td>\n",
       "      <td>female</td>\n",
       "      <td>35.0</td>\n",
       "      <td>1</td>\n",
       "      <td>0</td>\n",
       "      <td>113803</td>\n",
       "      <td>53.1000</td>\n",
       "      <td>C123</td>\n",
       "      <td>S</td>\n",
       "    </tr>\n",
       "    <tr>\n",
       "      <th>4</th>\n",
       "      <td>5</td>\n",
       "      <td>0</td>\n",
       "      <td>3</td>\n",
       "      <td>Allen, Mr. William Henry</td>\n",
       "      <td>male</td>\n",
       "      <td>35.0</td>\n",
       "      <td>0</td>\n",
       "      <td>0</td>\n",
       "      <td>373450</td>\n",
       "      <td>8.0500</td>\n",
       "      <td>NaN</td>\n",
       "      <td>S</td>\n",
       "    </tr>\n",
       "    <tr>\n",
       "      <th>5</th>\n",
       "      <td>6</td>\n",
       "      <td>0</td>\n",
       "      <td>3</td>\n",
       "      <td>Moran, Mr. James</td>\n",
       "      <td>male</td>\n",
       "      <td>NaN</td>\n",
       "      <td>0</td>\n",
       "      <td>0</td>\n",
       "      <td>330877</td>\n",
       "      <td>8.4583</td>\n",
       "      <td>NaN</td>\n",
       "      <td>Q</td>\n",
       "    </tr>\n",
       "  </tbody>\n",
       "</table>\n",
       "</div>"
      ],
      "text/plain": [
       "   PassengerId  Survived  Pclass  \\\n",
       "0            1         0       3   \n",
       "1            2         1       1   \n",
       "2            3         1       3   \n",
       "3            4         1       1   \n",
       "4            5         0       3   \n",
       "5            6         0       3   \n",
       "\n",
       "                                                Name     Sex   Age  SibSp  \\\n",
       "0                            Braund, Mr. Owen Harris    male  22.0      1   \n",
       "1  Cumings, Mrs. John Bradley (Florence Briggs Th...  female  38.0      1   \n",
       "2                             Heikkinen, Miss. Laina  female  26.0      0   \n",
       "3       Futrelle, Mrs. Jacques Heath (Lily May Peel)  female  35.0      1   \n",
       "4                           Allen, Mr. William Henry    male  35.0      0   \n",
       "5                                   Moran, Mr. James    male   NaN      0   \n",
       "\n",
       "   Parch            Ticket     Fare Cabin Embarked  \n",
       "0      0         A/5 21171   7.2500   NaN        S  \n",
       "1      0          PC 17599  71.2833   C85        C  \n",
       "2      0  STON/O2. 3101282   7.9250   NaN        S  \n",
       "3      0            113803  53.1000  C123        S  \n",
       "4      0            373450   8.0500   NaN        S  \n",
       "5      0            330877   8.4583   NaN        Q  "
      ]
     },
     "metadata": {},
     "output_type": "display_data"
    },
    {
     "data": {
      "text/html": [
       "<div>\n",
       "<style scoped>\n",
       "    .dataframe tbody tr th:only-of-type {\n",
       "        vertical-align: middle;\n",
       "    }\n",
       "\n",
       "    .dataframe tbody tr th {\n",
       "        vertical-align: top;\n",
       "    }\n",
       "\n",
       "    .dataframe thead th {\n",
       "        text-align: right;\n",
       "    }\n",
       "</style>\n",
       "<table border=\"1\" class=\"dataframe\">\n",
       "  <thead>\n",
       "    <tr style=\"text-align: right;\">\n",
       "      <th></th>\n",
       "      <th>PassengerId</th>\n",
       "      <th>Pclass</th>\n",
       "      <th>Name</th>\n",
       "      <th>Sex</th>\n",
       "      <th>Age</th>\n",
       "      <th>SibSp</th>\n",
       "      <th>Parch</th>\n",
       "      <th>Ticket</th>\n",
       "      <th>Fare</th>\n",
       "      <th>Cabin</th>\n",
       "      <th>Embarked</th>\n",
       "    </tr>\n",
       "  </thead>\n",
       "  <tbody>\n",
       "    <tr>\n",
       "      <th>0</th>\n",
       "      <td>892</td>\n",
       "      <td>3</td>\n",
       "      <td>Kelly, Mr. James</td>\n",
       "      <td>male</td>\n",
       "      <td>34.5</td>\n",
       "      <td>0</td>\n",
       "      <td>0</td>\n",
       "      <td>330911</td>\n",
       "      <td>7.8292</td>\n",
       "      <td>NaN</td>\n",
       "      <td>Q</td>\n",
       "    </tr>\n",
       "    <tr>\n",
       "      <th>1</th>\n",
       "      <td>893</td>\n",
       "      <td>3</td>\n",
       "      <td>Wilkes, Mrs. James (Ellen Needs)</td>\n",
       "      <td>female</td>\n",
       "      <td>47.0</td>\n",
       "      <td>1</td>\n",
       "      <td>0</td>\n",
       "      <td>363272</td>\n",
       "      <td>7.0000</td>\n",
       "      <td>NaN</td>\n",
       "      <td>S</td>\n",
       "    </tr>\n",
       "    <tr>\n",
       "      <th>2</th>\n",
       "      <td>894</td>\n",
       "      <td>2</td>\n",
       "      <td>Myles, Mr. Thomas Francis</td>\n",
       "      <td>male</td>\n",
       "      <td>62.0</td>\n",
       "      <td>0</td>\n",
       "      <td>0</td>\n",
       "      <td>240276</td>\n",
       "      <td>9.6875</td>\n",
       "      <td>NaN</td>\n",
       "      <td>Q</td>\n",
       "    </tr>\n",
       "    <tr>\n",
       "      <th>3</th>\n",
       "      <td>895</td>\n",
       "      <td>3</td>\n",
       "      <td>Wirz, Mr. Albert</td>\n",
       "      <td>male</td>\n",
       "      <td>27.0</td>\n",
       "      <td>0</td>\n",
       "      <td>0</td>\n",
       "      <td>315154</td>\n",
       "      <td>8.6625</td>\n",
       "      <td>NaN</td>\n",
       "      <td>S</td>\n",
       "    </tr>\n",
       "  </tbody>\n",
       "</table>\n",
       "</div>"
      ],
      "text/plain": [
       "   PassengerId  Pclass                              Name     Sex   Age  SibSp  \\\n",
       "0          892       3                  Kelly, Mr. James    male  34.5      0   \n",
       "1          893       3  Wilkes, Mrs. James (Ellen Needs)  female  47.0      1   \n",
       "2          894       2         Myles, Mr. Thomas Francis    male  62.0      0   \n",
       "3          895       3                  Wirz, Mr. Albert    male  27.0      0   \n",
       "\n",
       "   Parch  Ticket    Fare Cabin Embarked  \n",
       "0      0  330911  7.8292   NaN        Q  \n",
       "1      0  363272  7.0000   NaN        S  \n",
       "2      0  240276  9.6875   NaN        Q  \n",
       "3      0  315154  8.6625   NaN        S  "
      ]
     },
     "metadata": {},
     "output_type": "display_data"
    }
   ],
   "source": [
    "train = pd.read_csv(TRAIN_PATH)\n",
    "test  = pd.read_csv(TEST_PATH)\n",
    "\n",
    "print(\"train shape:\", train.shape)\n",
    "print(\"test  shape:\", test.shape)\n",
    "display(train.head(6))\n",
    "display(test.head(4))\n"
   ]
  },
  {
   "cell_type": "markdown",
   "id": "4795f4e4-9df2-4589-b010-6883f204c114",
   "metadata": {},
   "source": [
    "## ***Missing Values and Target distribution***"
   ]
  },
  {
   "cell_type": "code",
   "execution_count": 10,
   "id": "c9fc3e6f-ae65-4bc5-9fb8-7fde322ae6f2",
   "metadata": {},
   "outputs": [
    {
     "name": "stdout",
     "output_type": "stream",
     "text": [
      "Train missing (%):\n"
     ]
    },
    {
     "data": {
      "text/plain": [
       "Cabin       77.104377\n",
       "Age         19.865320\n",
       "Embarked     0.224467\n",
       "dtype: float64"
      ]
     },
     "metadata": {},
     "output_type": "display_data"
    },
    {
     "name": "stdout",
     "output_type": "stream",
     "text": [
      "Test missing (%):\n"
     ]
    },
    {
     "data": {
      "text/plain": [
       "Cabin    78.229665\n",
       "Age      20.574163\n",
       "Fare      0.239234\n",
       "dtype: float64"
      ]
     },
     "metadata": {},
     "output_type": "display_data"
    },
    {
     "name": "stdout",
     "output_type": "stream",
     "text": [
      "\n",
      "Target distribution (train):\n"
     ]
    },
    {
     "data": {
      "text/plain": [
       "Survived\n",
       "0    0.616162\n",
       "1    0.383838\n",
       "Name: proportion, dtype: float64"
      ]
     },
     "metadata": {},
     "output_type": "display_data"
    }
   ],
   "source": [
    "def missing_summary(df):\n",
    "    miss = df.isnull().sum() / len(df) * 100\n",
    "    return miss[miss > 0].sort_values(ascending=False)\n",
    "\n",
    "print(\"Train missing (%):\")\n",
    "display(missing_summary(train))\n",
    "print(\"Test missing (%):\")\n",
    "display(missing_summary(test))\n",
    "\n",
    "print(\"\\nTarget distribution (train):\")\n",
    "display(train['Survived'].value_counts(normalize=True).rename(\"proportion\"))\n"
   ]
  },
  {
   "cell_type": "markdown",
   "id": "9ef54f62-362e-49d6-87bf-f90b97abd733",
   "metadata": {},
   "source": [
    "## ***Light EDA plots(Age,Fare distributions)***"
   ]
  },
  {
   "cell_type": "code",
   "execution_count": 12,
   "id": "3df2ecd1-eb03-42b8-8410-2ec4b8e6c81a",
   "metadata": {},
   "outputs": [
    {
     "data": {
      "image/png": "[encoded data removed]",
      "text/plain": [
       "<Figure size 1200x400 with 2 Axes>"
      ]
     },
     "metadata": {},
     "output_type": "display_data"
    }
   ],
   "source": [
    "plt.figure(figsize=(12,4))\n",
    "plt.subplot(1,2,1)\n",
    "sns.histplot(train['Age'].dropna(), bins=30, kde=False)\n",
    "plt.title(\"Age distribution (train)\")\n",
    "\n",
    "plt.subplot(1,2,2)\n",
    "sns.histplot(train['Fare'].dropna(), bins=30, kde=False)\n",
    "plt.title(\"Fare distribution (train)\")\n",
    "plt.tight_layout()\n",
    "plt.show()\n"
   ]
  },
  {
   "cell_type": "markdown",
   "id": "38c96003-71e7-468c-adbb-3c51054f6f3e",
   "metadata": {},
   "source": [
    "## ***Feature engineering helper functions***"
   ]
  },
  {
   "cell_type": "markdown",
   "id": "6fa090f5-d026-4bf7-9ee9-26500b638428",
   "metadata": {},
   "source": [
    "#### These helper functions used to derive titles, decks, ticket prefixes, and fare-per-person."
   ]
  },
  {
   "cell_type": "code",
   "execution_count": 15,
   "id": "a26ffaea-b018-479a-8f61-f6fdbe64695d",
   "metadata": {},
   "outputs": [],
   "source": [
    "import re\n",
    "def extract_title(name: str) -> str:\n",
    "    if pd.isnull(name):\n",
    "        return \"Unknown\"\n",
    "    m = re.search(r\",\\s*([^\\.]*)\\.\", name)\n",
    "    return m.group(1).strip() if m else \"Unknown\"\n",
    "\n",
    "def title_mapper(title: str) -> str:\n",
    "    t = str(title).lower()\n",
    "    if t == \"mr\": return \"Mr\"\n",
    "    if t in [\"mrs\",\"mme\"]: return \"Mrs\"\n",
    "    if t in [\"miss\",\"ms\",\"mlle\"]: return \"Miss\"\n",
    "    if t == \"master\": return \"Master\"\n",
    "    if \"dr\" in t: return \"Dr\"\n",
    "    if t in [\"rev\",\"col\",\"major\",\"capt\",\"sir\",\"jonkheer\",\"don\",\"countess\",\"lady\"]:\n",
    "        return \"Noble_Officer\"\n",
    "    return \"Other\"\n",
    "\n",
    "def extract_deck(cabin: str) -> str:\n",
    "    if pd.isnull(cabin): return np.nan\n",
    "    return cabin.strip()[0]\n",
    "\n",
    "def ticket_prefix(ticket: str) -> str:\n",
    "    if pd.isnull(ticket): return \"NONE\"\n",
    "    ticket_clean = ticket.replace(\".\", \"\").replace(\"/\", \"\").strip()\n",
    "    parts = ticket_clean.split()\n",
    "    if len(parts) == 1:\n",
    "        return \"NUM\"\n",
    "    prefix = \"\".join([p for p in parts[:-1] if not p.isdigit()])\n",
    "    return prefix.upper() if prefix else \"NUM\"\n",
    "\n",
    "def fare_per_person(fare, family_size):\n",
    "    try:\n",
    "        if pd.isnull(fare) or family_size <= 0:\n",
    "            return np.nan\n",
    "        return fare / family_size\n",
    "    except:\n",
    "        return np.nan\n"
   ]
  },
  {
   "cell_type": "markdown",
   "id": "c942e45f-c74b-40b2-bd21-553b71d17339",
   "metadata": {},
   "source": [
    "## ***FeatureEngineer and KmeansClusterer(Transformers)***"
   ]
  },
  {
   "cell_type": "markdown",
   "id": "bf239052-5faa-4d1a-8160-55d6e74140e4",
   "metadata": {},
   "source": [
    "#### These transformer classes: FeatureEngineer to add features and KMeansClusterer to add cluster labels."
   ]
  },
  {
   "cell_type": "code",
   "execution_count": 18,
   "id": "72f472dd-cc50-42dc-a879-191624934678",
   "metadata": {},
   "outputs": [],
   "source": [
    "from sklearn.base import BaseEstimator, TransformerMixin\n",
    "\n",
    "class FeatureEngineer(BaseEstimator, TransformerMixin):\n",
    "    def fit(self, X, y=None):\n",
    "        return self\n",
    "    def transform(self, X):\n",
    "        X = X.copy()\n",
    "        # Titles\n",
    "        X['Title'] = X['Name'].apply(extract_title).fillna(\"Unknown\")\n",
    "        X['Title'] = X['Title'].apply(title_mapper)\n",
    "        # Family\n",
    "        X['FamilySize'] = X['SibSp'] + X['Parch'] + 1\n",
    "        X['IsAlone'] = (X['FamilySize'] == 1).astype(int)\n",
    "        # Name / Surname / NameLength\n",
    "        X['NameLength'] = X['Name'].apply(lambda s: len(s) if pd.notnull(s) else 0)\n",
    "        X['Surname'] = X['Name'].apply(lambda s: s.split(',')[0].strip() if pd.notnull(s) else 'Unknown')\n",
    "        # Ticket\n",
    "        X['TicketPrefix'] = X['Ticket'].apply(ticket_prefix)\n",
    "        # Cabin deck & flag\n",
    "        X['CabinDeck'] = X['Cabin'].apply(extract_deck)\n",
    "        X['HasCabin'] = X['Cabin'].notnull().astype(int)\n",
    "        # Fare Per Person\n",
    "        X['FarePerPerson'] = X.apply(lambda r: fare_per_person(r['Fare'], r['FamilySize']), axis=1)\n",
    "        # Age groups & child flag\n",
    "        X['IsChild'] = (X['Age'] < 16).astype(int)\n",
    "        X['AgeGroup'] = pd.cut(X['Age'], bins=[-1,12,18,35,60,200], labels=['Child','Teen','YoungAdult','Adult','Senior'])\n",
    "        # Class*Fare interaction\n",
    "        X['ClassFare'] = X['Pclass'].astype(str) + '_' + pd.qcut(X['Fare'].fillna(X['Fare'].median()), q=4, labels=False).astype(str)\n",
    "        return X\n",
    "\n",
    "class KMeansClusterer(BaseEstimator, TransformerMixin):\n",
    "    def __init__(self, n_clusters=4, cols=None, random_state=42):\n",
    "        self.n_clusters = n_clusters\n",
    "        self.cols = cols\n",
    "        self.random_state = random_state\n",
    "        self.km = None\n",
    "    def fit(self, X, y=None):\n",
    "        if self.cols is None:\n",
    "            raise ValueError(\"Please set cols for KMeansClusterer.\")\n",
    "        data = X[self.cols].fillna(X[self.cols].median())\n",
    "        self.km = KMeans(n_clusters=self.n_clusters, random_state=self.random_state)\n",
    "        self.km.fit(data)\n",
    "        return self\n",
    "    def transform(self, X):\n",
    "        X = X.copy()\n",
    "        X[self.cols] = X[self.cols].fillna(X[self.cols].median())\n",
    "        X[f'kmeans_{self.n_clusters}_clusters'] = self.km.predict(X[self.cols])\n",
    "        return X\n"
   ]
  },
  {
   "cell_type": "markdown",
   "id": "5f58a1e5-d102-467a-9715-7b773c7ee462",
   "metadata": {},
   "source": [
    "## ***Combine train + test , apply feature engineering ,split back***"
   ]
  },
  {
   "cell_type": "markdown",
   "id": "f6ff0881-4fa3-48d4-bcd4-ee130524995c",
   "metadata": {},
   "source": [
    "#### *To perform the same feature engineering on both datasets for consistency, then split back into train_fe and test_fe. Note test_fe has no Survived.*"
   ]
  },
  {
   "cell_type": "code",
   "execution_count": 21,
   "id": "887ea81a-b39c-49ba-9701-8367fbf594d8",
   "metadata": {},
   "outputs": [
    {
     "name": "stdout",
     "output_type": "stream",
     "text": [
      "train_fe shape: (891, 24)\n",
      "test_fe  shape: (418, 23)\n"
     ]
    },
    {
     "data": {
      "text/html": [
       "<div>\n",
       "<style scoped>\n",
       "    .dataframe tbody tr th:only-of-type {\n",
       "        vertical-align: middle;\n",
       "    }\n",
       "\n",
       "    .dataframe tbody tr th {\n",
       "        vertical-align: top;\n",
       "    }\n",
       "\n",
       "    .dataframe thead th {\n",
       "        text-align: right;\n",
       "    }\n",
       "</style>\n",
       "<table border=\"1\" class=\"dataframe\">\n",
       "  <thead>\n",
       "    <tr style=\"text-align: right;\">\n",
       "      <th></th>\n",
       "      <th>PassengerId</th>\n",
       "      <th>Survived</th>\n",
       "      <th>Pclass</th>\n",
       "      <th>Name</th>\n",
       "      <th>Sex</th>\n",
       "      <th>Age</th>\n",
       "      <th>SibSp</th>\n",
       "      <th>Parch</th>\n",
       "      <th>Ticket</th>\n",
       "      <th>Fare</th>\n",
       "      <th>...</th>\n",
       "      <th>IsAlone</th>\n",
       "      <th>NameLength</th>\n",
       "      <th>Surname</th>\n",
       "      <th>TicketPrefix</th>\n",
       "      <th>CabinDeck</th>\n",
       "      <th>HasCabin</th>\n",
       "      <th>FarePerPerson</th>\n",
       "      <th>IsChild</th>\n",
       "      <th>AgeGroup</th>\n",
       "      <th>ClassFare</th>\n",
       "    </tr>\n",
       "  </thead>\n",
       "  <tbody>\n",
       "    <tr>\n",
       "      <th>0</th>\n",
       "      <td>1</td>\n",
       "      <td>0.0</td>\n",
       "      <td>3</td>\n",
       "      <td>Braund, Mr. Owen Harris</td>\n",
       "      <td>male</td>\n",
       "      <td>22.0</td>\n",
       "      <td>1</td>\n",
       "      <td>0</td>\n",
       "      <td>A/5 21171</td>\n",
       "      <td>7.2500</td>\n",
       "      <td>...</td>\n",
       "      <td>0</td>\n",
       "      <td>23</td>\n",
       "      <td>Braund</td>\n",
       "      <td>A5</td>\n",
       "      <td>NaN</td>\n",
       "      <td>0</td>\n",
       "      <td>3.62500</td>\n",
       "      <td>0</td>\n",
       "      <td>YoungAdult</td>\n",
       "      <td>3_0</td>\n",
       "    </tr>\n",
       "    <tr>\n",
       "      <th>1</th>\n",
       "      <td>2</td>\n",
       "      <td>1.0</td>\n",
       "      <td>1</td>\n",
       "      <td>Cumings, Mrs. John Bradley (Florence Briggs Th...</td>\n",
       "      <td>female</td>\n",
       "      <td>38.0</td>\n",
       "      <td>1</td>\n",
       "      <td>0</td>\n",
       "      <td>PC 17599</td>\n",
       "      <td>71.2833</td>\n",
       "      <td>...</td>\n",
       "      <td>0</td>\n",
       "      <td>51</td>\n",
       "      <td>Cumings</td>\n",
       "      <td>PC</td>\n",
       "      <td>C</td>\n",
       "      <td>1</td>\n",
       "      <td>35.64165</td>\n",
       "      <td>0</td>\n",
       "      <td>Adult</td>\n",
       "      <td>1_3</td>\n",
       "    </tr>\n",
       "    <tr>\n",
       "      <th>2</th>\n",
       "      <td>3</td>\n",
       "      <td>1.0</td>\n",
       "      <td>3</td>\n",
       "      <td>Heikkinen, Miss. Laina</td>\n",
       "      <td>female</td>\n",
       "      <td>26.0</td>\n",
       "      <td>0</td>\n",
       "      <td>0</td>\n",
       "      <td>STON/O2. 3101282</td>\n",
       "      <td>7.9250</td>\n",
       "      <td>...</td>\n",
       "      <td>1</td>\n",
       "      <td>22</td>\n",
       "      <td>Heikkinen</td>\n",
       "      <td>STONO2</td>\n",
       "      <td>NaN</td>\n",
       "      <td>0</td>\n",
       "      <td>7.92500</td>\n",
       "      <td>0</td>\n",
       "      <td>YoungAdult</td>\n",
       "      <td>3_1</td>\n",
       "    </tr>\n",
       "  </tbody>\n",
       "</table>\n",
       "<p>3 rows × 24 columns</p>\n",
       "</div>"
      ],
      "text/plain": [
       "   PassengerId  Survived  Pclass  \\\n",
       "0            1       0.0       3   \n",
       "1            2       1.0       1   \n",
       "2            3       1.0       3   \n",
       "\n",
       "                                                Name     Sex   Age  SibSp  \\\n",
       "0                            Braund, Mr. Owen Harris    male  22.0      1   \n",
       "1  Cumings, Mrs. John Bradley (Florence Briggs Th...  female  38.0      1   \n",
       "2                             Heikkinen, Miss. Laina  female  26.0      0   \n",
       "\n",
       "   Parch            Ticket     Fare  ... IsAlone NameLength    Surname  \\\n",
       "0      0         A/5 21171   7.2500  ...       0         23     Braund   \n",
       "1      0          PC 17599  71.2833  ...       0         51    Cumings   \n",
       "2      0  STON/O2. 3101282   7.9250  ...       1         22  Heikkinen   \n",
       "\n",
       "   TicketPrefix  CabinDeck  HasCabin FarePerPerson IsChild    AgeGroup  \\\n",
       "0            A5        NaN         0       3.62500       0  YoungAdult   \n",
       "1            PC          C         1      35.64165       0       Adult   \n",
       "2        STONO2        NaN         0       7.92500       0  YoungAdult   \n",
       "\n",
       "   ClassFare  \n",
       "0        3_0  \n",
       "1        1_3  \n",
       "2        3_1  \n",
       "\n",
       "[3 rows x 24 columns]"
      ]
     },
     "metadata": {},
     "output_type": "display_data"
    }
   ],
   "source": [
    "# Keep PassengerId for submission later\n",
    "train_ids = train['PassengerId'].copy()\n",
    "test_ids  = test['PassengerId'].copy()\n",
    "\n",
    "train['is_train'] = 1\n",
    "test['is_train'] = 0\n",
    "combined = pd.concat([train, test], sort=False).reset_index(drop=True)\n",
    "\n",
    "fe = FeatureEngineer()\n",
    "combined_fe = fe.transform(combined)\n",
    "\n",
    "# split back\n",
    "train_fe = combined_fe[combined_fe['is_train'] == 1].drop(columns=['is_train'])\n",
    "test_fe  = combined_fe[combined_fe['is_train'] == 0].drop(columns=['is_train','Survived'], errors='ignore')\n",
    "\n",
    "print(\"train_fe shape:\", train_fe.shape)\n",
    "print(\"test_fe  shape:\", test_fe.shape)\n",
    "display(train_fe.head(3))\n"
   ]
  },
  {
   "cell_type": "markdown",
   "id": "af973352-2b41-48e2-8ba1-319e48e106a2",
   "metadata": {},
   "source": [
    "## ***Fill obvious missing values (Fare median) and prepare candidate feature lists***"
   ]
  },
  {
   "cell_type": "markdown",
   "id": "87631503-68c0-4324-8b77-fc00c17b182c",
   "metadata": {},
   "source": [
    "#### *The initial features for modeling. You’ll adjust later as MI and importance show results.*"
   ]
  },
  {
   "cell_type": "code",
   "execution_count": 24,
   "id": "ba5dd7e5-d69a-4bad-a461-2106a27e3ac4",
   "metadata": {},
   "outputs": [
    {
     "name": "stdout",
     "output_type": "stream",
     "text": [
      "Numeric: ['Age', 'Fare', 'FamilySize', 'FarePerPerson', 'NameLength']\n",
      "Categorical: ['Pclass', 'Sex', 'Embarked', 'Title', 'CabinDeck', 'TicketPrefix', 'Surname', 'ClassFare', 'AgeGroup']\n"
     ]
    }
   ],
   "source": [
    "# fill Fare in both if necessary\n",
    "fare_median = train_fe['Fare'].median()\n",
    "train_fe['Fare'] = train_fe['Fare'].fillna(fare_median)\n",
    "test_fe['Fare']  = test_fe['Fare'].fillna(fare_median)\n",
    "\n",
    "features_num = ['Age','Fare','FamilySize','FarePerPerson','NameLength']\n",
    "features_cat = ['Pclass','Sex','Embarked','Title','CabinDeck','TicketPrefix','Surname','ClassFare','AgeGroup']\n",
    "# ensure features exist\n",
    "features_num = [c for c in features_num if c in train_fe.columns]\n",
    "features_cat = [c for c in features_cat if c in train_fe.columns]\n",
    "\n",
    "print(\"Numeric:\", features_num)\n",
    "print(\"Categorical:\", features_cat)\n"
   ]
  },
  {
   "cell_type": "markdown",
   "id": "da8a3406-57a4-43fd-b338-71c87f97d040",
   "metadata": {},
   "source": [
    "## ***Mutual Information ranking (quick filter)***"
   ]
  },
  {
   "cell_type": "markdown",
   "id": "436bf591-2919-4e63-8092-fa4b285ac4b0",
   "metadata": {},
   "source": [
    "#### ****Mutual Information*** helps highlight which features are likely useful. Use it to refine all_features.*"
   ]
  },
  {
   "cell_type": "code",
   "execution_count": 27,
   "id": "d5184f66-8f31-4fab-b4b5-528e1c168d25",
   "metadata": {},
   "outputs": [
    {
     "name": "stdout",
     "output_type": "stream",
     "text": [
      "Top MI scores:\n"
     ]
    },
    {
     "data": {
      "text/plain": [
       "Title            0.187773\n",
       "FarePerPerson    0.147529\n",
       "Sex              0.147177\n",
       "Fare             0.127791\n",
       "Pclass           0.066582\n",
       "NameLength       0.057724\n",
       "FamilySize       0.027930\n",
       "Age              0.026652\n",
       "Embarked         0.025923\n",
       "dtype: float64"
      ]
     },
     "metadata": {},
     "output_type": "display_data"
    }
   ],
   "source": [
    "def mutual_information_ranking(X, y, features):\n",
    "    Xsub = X[features].copy()\n",
    "    # ordinal-encode categorical temporarily for MI\n",
    "    cat_cols = Xsub.select_dtypes(include=['object','category']).columns.tolist()\n",
    "    if cat_cols:\n",
    "        enc = OrdinalEncoder(handle_unknown='use_encoded_value', unknown_value=-1)\n",
    "        Xsub[cat_cols] = enc.fit_transform(Xsub[cat_cols].fillna('NA'))\n",
    "    Xsub = Xsub.fillna(-999)\n",
    "    mi = mutual_info_classif(Xsub, y, random_state=42)\n",
    "    return pd.Series(mi, index=features).sort_values(ascending=False)\n",
    "\n",
    "cand_features = features_num + ['Sex','Pclass','Embarked','Title']\n",
    "mi_scores = mutual_information_ranking(train_fe, train_fe['Survived'], cand_features)\n",
    "print(\"Top MI scores:\")\n",
    "display(mi_scores.head(20))\n"
   ]
  },
  {
   "cell_type": "markdown",
   "id": "d802e7cd-83d8-4f5c-bb1f-d409ee7be05e",
   "metadata": {},
   "source": [
    "## ***KMeans clustering (fit on train, apply to both)***"
   ]
  },
  {
   "cell_type": "markdown",
   "id": "cb9ef887-174f-4afc-8852-bf12d5b36f2e",
   "metadata": {},
   "source": [
    "#### *These creates cluster labels learned from training data and applied to test. Adds kmeans_4_clusters.*"
   ]
  },
  {
   "cell_type": "code",
   "execution_count": 30,
   "id": "0283a94a-a95e-486e-80ba-bda69c5c877d",
   "metadata": {},
   "outputs": [
    {
     "data": {
      "text/plain": [
       "kmeans_4_clusters\n",
       "0    720\n",
       "2    133\n",
       "1     35\n",
       "3      3\n",
       "Name: count, dtype: int64"
      ]
     },
     "metadata": {},
     "output_type": "display_data"
    }
   ],
   "source": [
    "kcols = ['Age','Fare','FamilySize']\n",
    "kcols = [c for c in kcols if c in train_fe.columns]\n",
    "km = KMeansClusterer(n_clusters=4, cols=kcols)\n",
    "km.fit(train_fe)\n",
    "train_fe = km.transform(train_fe)\n",
    "test_fe  = km.transform(test_fe)\n",
    "\n",
    "display(train_fe['kmeans_4_clusters'].value_counts())\n"
   ]
  },
  {
   "cell_type": "markdown",
   "id": "b035a6ad-d8cb-4e38-b265-c503090e5af2",
   "metadata": {},
   "source": [
    "## ***PCA on numeric features (for inspection / plotting)***"
   ]
  },
  {
   "cell_type": "markdown",
   "id": "b98eb6c1-7b64-417f-8288-cf2f22b5a928",
   "metadata": {},
   "source": [
    "#### ****Principal Component Analysis*** visualization helps see separability and variance explained.*"
   ]
  },
  {
   "cell_type": "code",
   "execution_count": 33,
   "id": "53bd55e1-0f83-4572-91aa-bda6fb7dddf2",
   "metadata": {},
   "outputs": [
    {
     "data": {
      "image/png": "[encoded data removed]",
      "text/plain": [
       "<Figure size 600x500 with 1 Axes>"
      ]
     },
     "metadata": {},
     "output_type": "display_data"
    },
    {
     "name": "stdout",
     "output_type": "stream",
     "text": [
      "Explained variance: [0.87018171 0.06904807]\n"
     ]
    }
   ],
   "source": [
    "pca_cols = [c for c in ['Age','Fare','FamilySize','FarePerPerson','NameLength'] if c in train_fe.columns]\n",
    "pca_df = train_fe[pca_cols].fillna(train_fe[pca_cols].median())\n",
    "pca = PCA(n_components=2, random_state=42)\n",
    "pca_res = pca.fit_transform(pca_df)\n",
    "\n",
    "plt.figure(figsize=(6,5))\n",
    "plt.scatter(pca_res[:,0], pca_res[:,1], c=train_fe['Survived'], cmap='coolwarm', alpha=0.6)\n",
    "plt.title('PCA (2 components) colored by Survived')\n",
    "plt.xlabel('PC1'); plt.ylabel('PC2')\n",
    "plt.show()\n",
    "print(\"Explained variance:\", pca.explained_variance_ratio_)\n"
   ]
  },
  {
   "cell_type": "markdown",
   "id": "2e15618b-c34f-4f35-a37f-3e5d520c4f24",
   "metadata": {},
   "source": [
    "## ***Safe target encoding (out-of-fold) for high-cardinality cols***"
   ]
  },
  {
   "cell_type": "markdown",
   "id": "29078764-66de-422a-813b-29cdd54b7d70",
   "metadata": {},
   "source": [
    "#### *This produces an ***out-of-fold*** target encodings for training rows (no leakage) and transforms test using a full-fit encoder. New columns named Surname_te, TicketPrefix_te appear.*"
   ]
  },
  {
   "cell_type": "code",
   "execution_count": 36,
   "id": "56b8d866-4bab-4847-835c-08b79381ae8e",
   "metadata": {},
   "outputs": [
    {
     "name": "stdout",
     "output_type": "stream",
     "text": [
      "Running OOF target-encoding for: ['Surname', 'TicketPrefix']\n",
      "Added target-encoded cols: ['Surname_te', 'TicketPrefix_te']\n"
     ]
    }
   ],
   "source": [
    "# We will OOF-target-encode Surname and TicketPrefix (example).\n",
    "te_cols = [c for c in ['Surname','TicketPrefix'] if c in train_fe.columns]\n",
    "\n",
    "if len(te_cols) > 0:\n",
    "    if TargetEncoder is None:\n",
    "        raise ImportError(\"category_encoders.TargetEncoder not available. Run `pip install category_encoders`.\")\n",
    "    def target_encode_oof(train_df, test_df, cols, target_col='Survived', n_splits=5):\n",
    "        train_copy = train_df.copy()\n",
    "        test_copy  = test_df.copy()\n",
    "        skf = StratifiedKFold(n_splits=n_splits, shuffle=True, random_state=42)\n",
    "        for col in cols:\n",
    "            oof = pd.Series(index=train_copy.index, dtype=float)\n",
    "            for train_idx, val_idx in skf.split(train_copy, train_copy[target_col]):\n",
    "                te = TargetEncoder(cols=[col])\n",
    "                te.fit(train_copy.loc[train_idx, [col]], train_copy.loc[train_idx, target_col])\n",
    "                oof.iloc[val_idx] = te.transform(train_copy.loc[val_idx, [col]])[col].values\n",
    "            # fill any remaining NaNs with global target mean\n",
    "            oof = oof.fillna(train_copy[target_col].mean())\n",
    "            # fit on full train and transform test\n",
    "            full_te = TargetEncoder(cols=[col])\n",
    "            full_te.fit(train_copy[[col]], train_copy[target_col])\n",
    "            test_enc = full_te.transform(test_copy[[col]])[col].values\n",
    "            train_copy[col + '_te'] = oof.values\n",
    "            test_copy[col + '_te']  = test_enc\n",
    "        return train_copy, test_copy\n",
    "\n",
    "    print(\"Running OOF target-encoding for:\", te_cols)\n",
    "    train_fe, test_fe = target_encode_oof(train_fe, test_fe, te_cols, target_col='Survived', n_splits=5)\n",
    "    # add new encoded columns to lists\n",
    "    encoded_cols = [c + '_te' for c in te_cols]\n",
    "    print(\"Added target-encoded cols:\", encoded_cols)\n",
    "else:\n",
    "    encoded_cols = []\n"
   ]
  },
  {
   "cell_type": "markdown",
   "id": "2f7db82a-f940-4f52-a53b-64dd03360b88",
   "metadata": {},
   "source": [
    "## ***Final feature selection for pipeline***"
   ]
  },
  {
   "cell_type": "markdown",
   "id": "5d78a2b5-e47c-44d2-a71c-8cee26a71c5b",
   "metadata": {},
   "source": [
    "#### *To prepare lists for the ColumnTransformer.Target encoded columns are numeric.*"
   ]
  },
  {
   "cell_type": "code",
   "execution_count": 39,
   "id": "902daa08-5e1f-4e10-ab89-46b1d1521a53",
   "metadata": {},
   "outputs": [
    {
     "name": "stdout",
     "output_type": "stream",
     "text": [
      "All features: ['Age', 'Fare', 'FamilySize', 'FarePerPerson', 'NameLength', 'Pclass', 'Sex', 'Embarked', 'Title', 'CabinDeck', 'TicketPrefix', 'Surname', 'ClassFare', 'AgeGroup', 'kmeans_4_clusters', 'Surname_te', 'TicketPrefix_te']\n",
      "Numeric features: ['Age', 'Fare', 'FamilySize', 'FarePerPerson', 'NameLength', 'Pclass', 'Surname_te', 'TicketPrefix_te']\n",
      "Categorical features: ['Sex', 'Embarked', 'Title', 'CabinDeck', 'TicketPrefix', 'Surname', 'ClassFare', 'AgeGroup', 'kmeans_4_clusters']\n"
     ]
    }
   ],
   "source": [
    "all_features = features_num + features_cat + ['kmeans_4_clusters'] + encoded_cols\n",
    "# keep only columns that exist in train_fe\n",
    "all_features = [c for c in all_features if c in train_fe.columns]\n",
    "# split numeric vs categorical for preprocessor\n",
    "numeric_features = [c for c in all_features if train_fe[c].dtype in [np.float64, np.int64] or c in encoded_cols]\n",
    "categorical_features = [c for c in all_features if c not in numeric_features]\n",
    "\n",
    "print(\"All features:\", all_features)\n",
    "print(\"Numeric features:\", numeric_features)\n",
    "print(\"Categorical features:\", categorical_features[:15])\n"
   ]
  },
  {
   "cell_type": "markdown",
   "id": "6564e273-4bf5-4bb2-9f6d-101634833fb9",
   "metadata": {},
   "source": [
    "## ***Build preprocessing ColumnTransformer***"
   ]
  },
  {
   "cell_type": "markdown",
   "id": "c48a6670-e4e2-4523-867d-e09fa68272ae",
   "metadata": {},
   "source": [
    "#### This ensures missing-value handling and scaling are part of the pipeline (prevents leakage)."
   ]
  },
  {
   "cell_type": "code",
   "execution_count": 42,
   "id": "3cc8432f-cf4b-4e68-8dbf-7d5751408345",
   "metadata": {},
   "outputs": [],
   "source": [
    "from sklearn.pipeline import Pipeline\n",
    "from sklearn.preprocessing import OneHotEncoder\n",
    "from sklearn.impute import SimpleImputer\n",
    "\n",
    "numeric_pipeline = Pipeline([\n",
    "    ('imputer', SimpleImputer(strategy='median')),\n",
    "    ('scaler', StandardScaler())\n",
    "])\n",
    "\n",
    "categorical_pipeline = Pipeline([\n",
    "    ('imputer', SimpleImputer(strategy='most_frequent')),\n",
    "    ('onehot', OneHotEncoder(handle_unknown='ignore', sparse_output=False))\n",
    "\n",
    "])\n",
    "\n",
    "preprocessor = ColumnTransformer(transformers=[\n",
    "    ('num', numeric_pipeline, numeric_features),\n",
    "    ('cat', categorical_pipeline, categorical_features)\n",
    "], remainder='drop', sparse_threshold=0)\n"
   ]
  },
  {
   "cell_type": "markdown",
   "id": "818313a1-cec5-4d71-84b1-91afbd9a4309",
   "metadata": {},
   "source": [
    "## ***Build model pipeline (XGBoost if available, else RandomForest)***"
   ]
  },
  {
   "cell_type": "markdown",
   "id": "5541e647-a460-4f87-85a1-9e3a47218092",
   "metadata": {},
   "source": [
    "#### *It builds a single pipeline combining preprocessing + model for safe CV.*"
   ]
  },
  {
   "cell_type": "code",
   "execution_count": 45,
   "id": "68d72d47-9912-40b7-9995-ef0a38800193",
   "metadata": {},
   "outputs": [],
   "source": [
    "import xgboost as xgb\n",
    "if xgb is not None:\n",
    "    model = xgb.XGBClassifier(use_label_encoder=False, eval_metric='logloss', random_state=42)\n",
    "else:\n",
    "    print(\"xgboost not found — using RandomForest as fallback\")\n",
    "    model = RandomForestClassifier(n_estimators=200, random_state=42)\n",
    "\n",
    "pipeline = Pipeline([\n",
    "    ('preprocessor', preprocessor),\n",
    "    ('model', model)\n",
    "])\n"
   ]
  },
  {
   "cell_type": "markdown",
   "id": "3fd01b97-4266-4def-ac82-fcc704ce6f25",
   "metadata": {},
   "source": [
    "## ***Cross-validated evaluation (stratified k-fold)***"
   ]
  },
  {
   "cell_type": "markdown",
   "id": "fde754c7-514e-4d01-a3cb-ff7445c7a5e5",
   "metadata": {},
   "source": [
    "#### *It checks baseline CV metrics. These are your cross-validated estimates.*"
   ]
  },
  {
   "cell_type": "code",
   "execution_count": 48,
   "id": "1cfc12d2-2203-4c22-bf96-033a67309fa6",
   "metadata": {},
   "outputs": [
    {
     "name": "stderr",
     "output_type": "stream",
     "text": [
      "C:\\ProgramData\\anaconda3\\Lib\\site-packages\\xgboost\\training.py:183: UserWarning: [12:27:05] WARNING: C:\\actions-runner\\_work\\xgboost\\xgboost\\src\\learner.cc:738: \n",
      "Parameters: { \"use_label_encoder\" } are not used.\n",
      "\n",
      "  bst.update(dtrain, iteration=i, fobj=obj)\n",
      "C:\\ProgramData\\anaconda3\\Lib\\site-packages\\xgboost\\training.py:183: UserWarning: [12:27:05] WARNING: C:\\actions-runner\\_work\\xgboost\\xgboost\\src\\learner.cc:738: \n",
      "Parameters: { \"use_label_encoder\" } are not used.\n",
      "\n",
      "  bst.update(dtrain, iteration=i, fobj=obj)\n",
      "C:\\ProgramData\\anaconda3\\Lib\\site-packages\\xgboost\\training.py:183: UserWarning: [12:27:05] WARNING: C:\\actions-runner\\_work\\xgboost\\xgboost\\src\\learner.cc:738: \n",
      "Parameters: { \"use_label_encoder\" } are not used.\n",
      "\n",
      "  bst.update(dtrain, iteration=i, fobj=obj)\n",
      "C:\\ProgramData\\anaconda3\\Lib\\site-packages\\xgboost\\training.py:183: UserWarning: [12:27:06] WARNING: C:\\actions-runner\\_work\\xgboost\\xgboost\\src\\learner.cc:738: \n",
      "Parameters: { \"use_label_encoder\" } are not used.\n",
      "\n",
      "  bst.update(dtrain, iteration=i, fobj=obj)\n",
      "C:\\ProgramData\\anaconda3\\Lib\\site-packages\\xgboost\\training.py:183: UserWarning: [12:27:06] WARNING: C:\\actions-runner\\_work\\xgboost\\xgboost\\src\\learner.cc:738: \n",
      "Parameters: { \"use_label_encoder\" } are not used.\n",
      "\n",
      "  bst.update(dtrain, iteration=i, fobj=obj)\n"
     ]
    },
    {
     "name": "stdout",
     "output_type": "stream",
     "text": [
      "{'fit_time': 0.32500133514404295, 'score_time': 0.06139874458312988, 'test_accuracy': 0.831648986253217, 'test_f1': 0.7766061586617374, 'test_precision': 0.7913095064328461, 'test_recall': 0.7631713554987212, 'test_roc_auc': 0.8720883718102682}\n"
     ]
    }
   ],
   "source": [
    "X_train = train_fe[all_features]\n",
    "y_train = train_fe['Survived']\n",
    "scoring = ['accuracy', 'f1', 'precision', 'recall', 'roc_auc']\n",
    "\n",
    "cv = StratifiedKFold(n_splits=5, shuffle=True, random_state=42)\n",
    "scores = cross_validate(pipeline, X_train, y_train, cv=cv, scoring=scoring, return_train_score=False)\n",
    "print({k: np.mean(v) for k, v in scores.items()})\n"
   ]
  },
  {
   "cell_type": "markdown",
   "id": "71e532b3-b8b4-4b22-bf65-337f8f854642",
   "metadata": {},
   "source": [
    "## ***Light RandomizedSearchCV (tune a few params)***"
   ]
  },
  {
   "cell_type": "markdown",
   "id": "ab09285b-41a5-4eca-9924-74ef2c6574ad",
   "metadata": {},
   "source": [
    "#### *The tuner (keeps runtime reasonable). n_jobs=-1 uses all cores (change to 1 if your machine is limited).*"
   ]
  },
  {
   "cell_type": "code",
   "execution_count": 51,
   "id": "f1e37700-29ba-4e66-95d8-2c883813b6ef",
   "metadata": {},
   "outputs": [
    {
     "name": "stdout",
     "output_type": "stream",
     "text": [
      "Fitting 4 folds for each of 6 candidates, totalling 24 fits\n"
     ]
    },
    {
     "name": "stderr",
     "output_type": "stream",
     "text": [
      "C:\\ProgramData\\anaconda3\\Lib\\site-packages\\xgboost\\training.py:183: UserWarning: [12:27:07] WARNING: C:\\actions-runner\\_work\\xgboost\\xgboost\\src\\learner.cc:738: \n",
      "Parameters: { \"use_label_encoder\" } are not used.\n",
      "\n",
      "  bst.update(dtrain, iteration=i, fobj=obj)\n",
      "C:\\ProgramData\\anaconda3\\Lib\\site-packages\\xgboost\\training.py:183: UserWarning: [12:27:08] WARNING: C:\\actions-runner\\_work\\xgboost\\xgboost\\src\\learner.cc:738: \n",
      "Parameters: { \"use_label_encoder\" } are not used.\n",
      "\n",
      "  bst.update(dtrain, iteration=i, fobj=obj)\n",
      "C:\\ProgramData\\anaconda3\\Lib\\site-packages\\xgboost\\training.py:183: UserWarning: [12:27:09] WARNING: C:\\actions-runner\\_work\\xgboost\\xgboost\\src\\learner.cc:738: \n",
      "Parameters: { \"use_label_encoder\" } are not used.\n",
      "\n",
      "  bst.update(dtrain, iteration=i, fobj=obj)\n",
      "C:\\ProgramData\\anaconda3\\Lib\\site-packages\\xgboost\\training.py:183: UserWarning: [12:27:09] WARNING: C:\\actions-runner\\_work\\xgboost\\xgboost\\src\\learner.cc:738: \n",
      "Parameters: { \"use_label_encoder\" } are not used.\n",
      "\n",
      "  bst.update(dtrain, iteration=i, fobj=obj)\n",
      "C:\\ProgramData\\anaconda3\\Lib\\site-packages\\xgboost\\training.py:183: UserWarning: [12:27:10] WARNING: C:\\actions-runner\\_work\\xgboost\\xgboost\\src\\learner.cc:738: \n",
      "Parameters: { \"use_label_encoder\" } are not used.\n",
      "\n",
      "  bst.update(dtrain, iteration=i, fobj=obj)\n",
      "C:\\ProgramData\\anaconda3\\Lib\\site-packages\\xgboost\\training.py:183: UserWarning: [12:27:11] WARNING: C:\\actions-runner\\_work\\xgboost\\xgboost\\src\\learner.cc:738: \n",
      "Parameters: { \"use_label_encoder\" } are not used.\n",
      "\n",
      "  bst.update(dtrain, iteration=i, fobj=obj)\n",
      "C:\\ProgramData\\anaconda3\\Lib\\site-packages\\xgboost\\training.py:183: UserWarning: [12:27:11] WARNING: C:\\actions-runner\\_work\\xgboost\\xgboost\\src\\learner.cc:738: \n",
      "Parameters: { \"use_label_encoder\" } are not used.\n",
      "\n",
      "  bst.update(dtrain, iteration=i, fobj=obj)\n",
      "C:\\ProgramData\\anaconda3\\Lib\\site-packages\\xgboost\\training.py:183: UserWarning: [12:27:11] WARNING: C:\\actions-runner\\_work\\xgboost\\xgboost\\src\\learner.cc:738: \n",
      "Parameters: { \"use_label_encoder\" } are not used.\n",
      "\n",
      "  bst.update(dtrain, iteration=i, fobj=obj)\n",
      "C:\\ProgramData\\anaconda3\\Lib\\site-packages\\xgboost\\training.py:183: UserWarning: [12:27:12] WARNING: C:\\actions-runner\\_work\\xgboost\\xgboost\\src\\learner.cc:738: \n",
      "Parameters: { \"use_label_encoder\" } are not used.\n",
      "\n",
      "  bst.update(dtrain, iteration=i, fobj=obj)\n",
      "C:\\ProgramData\\anaconda3\\Lib\\site-packages\\xgboost\\training.py:183: UserWarning: [12:27:12] WARNING: C:\\actions-runner\\_work\\xgboost\\xgboost\\src\\learner.cc:738: \n",
      "Parameters: { \"use_label_encoder\" } are not used.\n",
      "\n",
      "  bst.update(dtrain, iteration=i, fobj=obj)\n",
      "C:\\ProgramData\\anaconda3\\Lib\\site-packages\\xgboost\\training.py:183: UserWarning: [12:27:12] WARNING: C:\\actions-runner\\_work\\xgboost\\xgboost\\src\\learner.cc:738: \n",
      "Parameters: { \"use_label_encoder\" } are not used.\n",
      "\n",
      "  bst.update(dtrain, iteration=i, fobj=obj)\n",
      "C:\\ProgramData\\anaconda3\\Lib\\site-packages\\xgboost\\training.py:183: UserWarning: [12:27:12] WARNING: C:\\actions-runner\\_work\\xgboost\\xgboost\\src\\learner.cc:738: \n",
      "Parameters: { \"use_label_encoder\" } are not used.\n",
      "\n",
      "  bst.update(dtrain, iteration=i, fobj=obj)\n",
      "C:\\ProgramData\\anaconda3\\Lib\\site-packages\\xgboost\\training.py:183: UserWarning: [12:27:13] WARNING: C:\\actions-runner\\_work\\xgboost\\xgboost\\src\\learner.cc:738: \n",
      "Parameters: { \"use_label_encoder\" } are not used.\n",
      "\n",
      "  bst.update(dtrain, iteration=i, fobj=obj)\n",
      "C:\\ProgramData\\anaconda3\\Lib\\site-packages\\xgboost\\training.py:183: UserWarning: [12:27:13] WARNING: C:\\actions-runner\\_work\\xgboost\\xgboost\\src\\learner.cc:738: \n",
      "Parameters: { \"use_label_encoder\" } are not used.\n",
      "\n",
      "  bst.update(dtrain, iteration=i, fobj=obj)\n",
      "C:\\ProgramData\\anaconda3\\Lib\\site-packages\\xgboost\\training.py:183: UserWarning: [12:27:13] WARNING: C:\\actions-runner\\_work\\xgboost\\xgboost\\src\\learner.cc:738: \n",
      "Parameters: { \"use_label_encoder\" } are not used.\n",
      "\n",
      "  bst.update(dtrain, iteration=i, fobj=obj)\n",
      "C:\\ProgramData\\anaconda3\\Lib\\site-packages\\xgboost\\training.py:183: UserWarning: [12:27:13] WARNING: C:\\actions-runner\\_work\\xgboost\\xgboost\\src\\learner.cc:738: \n",
      "Parameters: { \"use_label_encoder\" } are not used.\n",
      "\n",
      "  bst.update(dtrain, iteration=i, fobj=obj)\n",
      "C:\\ProgramData\\anaconda3\\Lib\\site-packages\\xgboost\\training.py:183: UserWarning: [12:27:13] WARNING: C:\\actions-runner\\_work\\xgboost\\xgboost\\src\\learner.cc:738: \n",
      "Parameters: { \"use_label_encoder\" } are not used.\n",
      "\n",
      "  bst.update(dtrain, iteration=i, fobj=obj)\n",
      "C:\\ProgramData\\anaconda3\\Lib\\site-packages\\xgboost\\training.py:183: UserWarning: [12:27:14] WARNING: C:\\actions-runner\\_work\\xgboost\\xgboost\\src\\learner.cc:738: \n",
      "Parameters: { \"use_label_encoder\" } are not used.\n",
      "\n",
      "  bst.update(dtrain, iteration=i, fobj=obj)\n",
      "C:\\ProgramData\\anaconda3\\Lib\\site-packages\\xgboost\\training.py:183: UserWarning: [12:27:14] WARNING: C:\\actions-runner\\_work\\xgboost\\xgboost\\src\\learner.cc:738: \n",
      "Parameters: { \"use_label_encoder\" } are not used.\n",
      "\n",
      "  bst.update(dtrain, iteration=i, fobj=obj)\n",
      "C:\\ProgramData\\anaconda3\\Lib\\site-packages\\xgboost\\training.py:183: UserWarning: [12:27:14] WARNING: C:\\actions-runner\\_work\\xgboost\\xgboost\\src\\learner.cc:738: \n",
      "Parameters: { \"use_label_encoder\" } are not used.\n",
      "\n",
      "  bst.update(dtrain, iteration=i, fobj=obj)\n",
      "C:\\ProgramData\\anaconda3\\Lib\\site-packages\\xgboost\\training.py:183: UserWarning: [12:27:15] WARNING: C:\\actions-runner\\_work\\xgboost\\xgboost\\src\\learner.cc:738: \n",
      "Parameters: { \"use_label_encoder\" } are not used.\n",
      "\n",
      "  bst.update(dtrain, iteration=i, fobj=obj)\n",
      "C:\\ProgramData\\anaconda3\\Lib\\site-packages\\xgboost\\training.py:183: UserWarning: [12:27:15] WARNING: C:\\actions-runner\\_work\\xgboost\\xgboost\\src\\learner.cc:738: \n",
      "Parameters: { \"use_label_encoder\" } are not used.\n",
      "\n",
      "  bst.update(dtrain, iteration=i, fobj=obj)\n",
      "C:\\ProgramData\\anaconda3\\Lib\\site-packages\\xgboost\\training.py:183: UserWarning: [12:27:15] WARNING: C:\\actions-runner\\_work\\xgboost\\xgboost\\src\\learner.cc:738: \n",
      "Parameters: { \"use_label_encoder\" } are not used.\n",
      "\n",
      "  bst.update(dtrain, iteration=i, fobj=obj)\n",
      "C:\\ProgramData\\anaconda3\\Lib\\site-packages\\xgboost\\training.py:183: UserWarning: [12:27:16] WARNING: C:\\actions-runner\\_work\\xgboost\\xgboost\\src\\learner.cc:738: \n",
      "Parameters: { \"use_label_encoder\" } are not used.\n",
      "\n",
      "  bst.update(dtrain, iteration=i, fobj=obj)\n",
      "C:\\ProgramData\\anaconda3\\Lib\\site-packages\\xgboost\\training.py:183: UserWarning: [12:27:16] WARNING: C:\\actions-runner\\_work\\xgboost\\xgboost\\src\\learner.cc:738: \n",
      "Parameters: { \"use_label_encoder\" } are not used.\n",
      "\n",
      "  bst.update(dtrain, iteration=i, fobj=obj)\n"
     ]
    },
    {
     "name": "stdout",
     "output_type": "stream",
     "text": [
      "Best params: {'model__n_estimators': 100, 'model__max_depth': 4, 'model__learning_rate': 0.1}\n",
      "Best CV score (roc_auc): 0.8948369013492194\n"
     ]
    }
   ],
   "source": [
    "if xgb is not None:\n",
    "    param_distributions = {\n",
    "        'model__n_estimators': [100, 200, 300],\n",
    "        'model__max_depth': [3, 4, 6],\n",
    "        'model__learning_rate': [0.01, 0.05, 0.1]\n",
    "    }\n",
    "else:\n",
    "    param_distributions = {\n",
    "        'model__n_estimators': [100, 200, 300],\n",
    "        'model__max_depth': [5, 10, 15]\n",
    "    }\n",
    "\n",
    "rs = RandomizedSearchCV(pipeline, param_distributions, n_iter=6, cv=StratifiedKFold(4, shuffle=True, random_state=42),\n",
    "                        scoring='roc_auc', random_state=42, n_jobs=1, verbose=1)\n",
    "rs.fit(X_train, y_train)\n",
    "\n",
    "print(\"Best params:\", rs.best_params_)\n",
    "print(\"Best CV score (roc_auc):\", rs.best_score_)\n",
    "best_pipeline = rs.best_estimator_\n"
   ]
  },
  {
   "cell_type": "markdown",
   "id": "80264e49-7fe1-41b5-b2d2-3245d3c21894",
   "metadata": {},
   "source": [
    "## ***Fit best pipeline on full train and save pipeline.***"
   ]
  },
  {
   "cell_type": "markdown",
   "id": "40082d4a-daff-4c14-a93a-f8cb22d93d37",
   "metadata": {},
   "source": [
    "#### *Final training on the whole training set and serialization of pipeline (preprocessing + model) for deployment.*"
   ]
  },
  {
   "cell_type": "code",
   "execution_count": 54,
   "id": "b21e305c-08df-4a7d-8b35-72c11d859add",
   "metadata": {},
   "outputs": [
    {
     "name": "stdout",
     "output_type": "stream",
     "text": [
      "OUTPUT: titanic_pipeline_outputs\n"
     ]
    }
   ],
   "source": [
    "import os, re, warnings\n",
    "OUTPUT_DIR = \"titanic_pipeline_outputs\"\n",
    "os.makedirs(OUTPUT_DIR, exist_ok=True)\n",
    "\n",
    "\n",
    "print(\"OUTPUT:\", OUTPUT_DIR)"
   ]
  },
  {
   "cell_type": "code",
   "execution_count": 55,
   "id": "d2b0f2a6-b7a5-4591-a259-330a73294d3f",
   "metadata": {},
   "outputs": [
    {
     "name": "stderr",
     "output_type": "stream",
     "text": [
      "C:\\ProgramData\\anaconda3\\Lib\\site-packages\\xgboost\\training.py:183: UserWarning: [12:27:17] WARNING: C:\\actions-runner\\_work\\xgboost\\xgboost\\src\\learner.cc:738: \n",
      "Parameters: { \"use_label_encoder\" } are not used.\n",
      "\n",
      "  bst.update(dtrain, iteration=i, fobj=obj)\n"
     ]
    },
    {
     "name": "stdout",
     "output_type": "stream",
     "text": [
      "Saved pipeline to: titanic_pipeline_outputs\\titanic_best_pipeline.pkl\n"
     ]
    }
   ],
   "source": [
    "import joblib\n",
    "# Fit on full train\n",
    "best_pipeline.fit(X_train, y_train)\n",
    "joblib.dump(best_pipeline, os.path.join(OUTPUT_DIR, \"titanic_best_pipeline.pkl\"))\n",
    "print(\"Saved pipeline to:\", os.path.join(OUTPUT_DIR, \"titanic_best_pipeline.pkl\"))\n"
   ]
  },
  {
   "cell_type": "markdown",
   "id": "e503f867-eda9-4643-a33f-b1ba1a1606be",
   "metadata": {},
   "source": [
    "## ***Predict on test and create submission***"
   ]
  },
  {
   "cell_type": "markdown",
   "id": "c3f3321b-3e9b-438b-a3db-5332eeaf81d3",
   "metadata": {},
   "source": [
    "#### *Produces a kaggle-ready (submission.csv)*"
   ]
  },
  {
   "cell_type": "code",
   "execution_count": 58,
   "id": "d9f2a572-c2d1-413c-927b-744965f1e741",
   "metadata": {},
   "outputs": [
    {
     "name": "stdout",
     "output_type": "stream",
     "text": [
      "Saved submission to: titanic_pipeline_outputs\\submission.csv\n"
     ]
    }
   ],
   "source": [
    "X_test = test_fe[all_features]\n",
    "test_preds = best_pipeline.predict(X_test)\n",
    "# If you want probabilities:\n",
    "test_probs = best_pipeline.predict_proba(X_test)[:,1] if hasattr(best_pipeline, \"predict_proba\") else None\n",
    "\n",
    "submission = pd.DataFrame({\n",
    "    \"PassengerId\": test['PassengerId'],\n",
    "    \"Survived\": test_preds.astype(int)\n",
    "})\n",
    "submission_path = os.path.join(OUTPUT_DIR, \"submission.csv\")\n",
    "submission.to_csv(submission_path, index=False)\n",
    "print(\"Saved submission to:\", submission_path)\n"
   ]
  },
  {
   "cell_type": "markdown",
   "id": "a7d85984-4d26-4b0f-8270-ff1d0854b7b4",
   "metadata": {},
   "source": [
    "## ***Feature importances (best-effort)***"
   ]
  },
  {
   "cell_type": "markdown",
   "id": "613708f5-0b2d-4132-918e-16370051a003",
   "metadata": {},
   "source": [
    "#### *To extracts importances for tree-based models and saves them. For complex pipelines the mapping of one-hot names sometimes fails — this is a best-effort approach.*"
   ]
  },
  {
   "cell_type": "code",
   "execution_count": 61,
   "id": "b39834c6-21dd-4ced-9f75-21d5d027b0d5",
   "metadata": {},
   "outputs": [
    {
     "data": {
      "text/plain": [
       "Title_Mr               0.364182\n",
       "Pclass                 0.076342\n",
       "Title_Noble_Officer    0.071224\n",
       "Surname_te             0.039290\n",
       "Sex_female             0.031917\n",
       "FamilySize             0.030128\n",
       "CabinDeck_C            0.026929\n",
       "FarePerPerson          0.025693\n",
       "ClassFare_1_3          0.021516\n",
       "Title_Master           0.020574\n",
       "Embarked_S             0.019801\n",
       "ClassFare_3_1          0.019161\n",
       "TicketPrefix_STONO     0.018143\n",
       "CabinDeck_B            0.016689\n",
       "TicketPrefix_te        0.016387\n",
       "AgeGroup_Adult         0.015974\n",
       "Age                    0.015194\n",
       "AgeGroup_YoungAdult    0.014795\n",
       "kmeans_4_clusters_1    0.014585\n",
       "Fare                   0.013895\n",
       "Embarked_C             0.013855\n",
       "NameLength             0.013218\n",
       "ClassFare_3_2          0.012234\n",
       "TicketPrefix_CA        0.011017\n",
       "ClassFare_1_2          0.010419\n",
       "CabinDeck_A            0.010241\n",
       "Title_Miss             0.009863\n",
       "ClassFare_2_2          0.009128\n",
       "CabinDeck_E            0.007635\n",
       "Title_Mrs              0.007523\n",
       "dtype: float32"
      ]
     },
     "metadata": {},
     "output_type": "display_data"
    },
    {
     "name": "stdout",
     "output_type": "stream",
     "text": [
      "Saved feature importances.\n"
     ]
    }
   ],
   "source": [
    "try:\n",
    "    mdl = best_pipeline.named_steps['model']\n",
    "    if hasattr(mdl, \"feature_importances_\"):\n",
    "        # try to recover transformed feature names\n",
    "        pre = best_pipeline.named_steps['preprocessor']\n",
    "        num_names = numeric_features\n",
    "        try:\n",
    "            cat_encoder = pre.named_transformers_['cat'].named_steps['onehot']\n",
    "            cat_names = list(cat_encoder.get_feature_names_out(categorical_features))\n",
    "        except Exception:\n",
    "            cat_names = categorical_features\n",
    "        feature_names = num_names + cat_names\n",
    "        importances = pd.Series(mdl.feature_importances_, index=feature_names).sort_values(ascending=False)\n",
    "        display(importances.head(30))\n",
    "        importances.to_csv(os.path.join(OUTPUT_DIR, \"feature_importances.csv\"))\n",
    "        print(\"Saved feature importances.\")\n",
    "    else:\n",
    "        print(\"Model has no feature_importances_.\")\n",
    "except Exception as e:\n",
    "    print(\"Could not extract importances:\", e)\n"
   ]
  },
  {
   "cell_type": "markdown",
   "id": "fd4b88c0-88ac-4f97-9428-e67806331687",
   "metadata": {},
   "source": [
    "## ***Optional: SHAP explainability (if SHAP + XGBoost installed)***"
   ]
  },
  {
   "cell_type": "markdown",
   "id": "bfd51947-8cdc-443e-876a-6c53d899567a",
   "metadata": {},
   "source": [
    "#### *Optional interpretability; SHAP plots can be heavy and require careful mapping of transformed feature names.*"
   ]
  },
  {
   "cell_type": "code",
   "execution_count": 64,
   "id": "5ae26154-9082-43fa-b5c3-02cd5ea51e28",
   "metadata": {},
   "outputs": [
    {
     "data": {
      "image/png": "[encoded data removed]",
      "text/plain": [
       "<Figure size 800x950 with 2 Axes>"
      ]
     },
     "metadata": {},
     "output_type": "display_data"
    }
   ],
   "source": [
    "# Optional and can be heavy — run only if you installed shap and xgboost\n",
    "if xgb is not None:\n",
    "    try:\n",
    "        import shap\n",
    "        # get transformed train data\n",
    "        transformed = best_pipeline.named_steps['preprocessor'].transform(X_train)\n",
    "        # shap for xgboost expects DMatrix-like or model booster; shallow approach:\n",
    "        explainer = shap.TreeExplainer(best_pipeline.named_steps['model'])\n",
    "        shap_values = explainer.shap_values(transformed)\n",
    "        shap.summary_plot(shap_values, transformed, feature_names=(numeric_features + list(best_pipeline.named_steps['preprocessor'].named_transformers_['cat'].named_steps['onehot'].get_feature_names_out(categorical_features))))\n",
    "    except Exception as e:\n",
    "        print(\"SHAP step skipped or failed:\", e)\n",
    "else:\n",
    "    print(\"XGBoost not available; skip SHAP.\")\n"
   ]
  },
  {
   "cell_type": "code",
   "execution_count": 65,
   "id": "94f4dd68-ad6d-41f3-8005-3a14dc7af642",
   "metadata": {},
   "outputs": [
    {
     "data": {
      "text/plain": [
       "['model.pkl']"
      ]
     },
     "execution_count": 65,
     "metadata": {},
     "output_type": "execute_result"
    }
   ],
   "source": [
    "import joblib\n",
    "\n",
    "# After training your pipeline/model\n",
    "joblib.dump(pipeline, \"model.pkl\")\n"
   ]
  },
  {
   "cell_type": "code",
   "execution_count": 66,
   "id": "0f2aa2c0-30ec-4029-bcf1-23b8b03adfe0",
   "metadata": {},
   "outputs": [
    {
     "name": "stderr",
     "output_type": "stream",
     "text": [
      "2025-09-02 12:27:22.079 \n",
      "  \u001b[33m\u001b[1mWarning:\u001b[0m to view this Streamlit app on a browser, run it with the following\n",
      "  command:\n",
      "\n",
      "    streamlit run C:\\ProgramData\\anaconda3\\Lib\\site-packages\\ipykernel_launcher.py [ARGUMENTS]\n"
     ]
    }
   ],
   "source": [
    "import streamlit as st\n",
    "import joblib\n",
    "import pandas as pd\n",
    "\n",
    "# Load pipeline\n",
    "pipeline = joblib.load(\"model.pkl\")\n",
    "\n",
    "st.title(\"🚀 Prediction App\")\n",
    "\n",
    "# Example input fields (change to match your dataset)\n",
    "age = st.number_input(\"Age\", min_value=0, max_value=120, value=25)\n",
    "gender = st.selectbox(\"Gender\", [\"Male\", \"Female\"])\n",
    "income = st.number_input(\"Annual Income\", min_value=0, value=50000)\n",
    "\n",
    "# Convert input into dataframe\n",
    "input_df = pd.DataFrame([{\n",
    "    \"age\": age,\n",
    "    \"gender\": gender,\n",
    "    \"income\": income\n",
    "}])\n",
    "\n",
    "if st.button(\"Predict\"):\n",
    "    prediction = pipeline.predict(input_df)[0]\n",
    "    st.success(f\"✅ Prediction: {prediction}\")\n"
   ]
  },
  {
   "cell_type": "code",
   "execution_count": null,
   "id": "2b22aa0d-f343-4c1c-957c-1651310e505b",
   "metadata": {},
   "outputs": [],
   "source": [
    "!streamlit run app_streamlit.py --server.headless true\n"
   ]
  }
 ],
 "metadata": {
  "kernelspec": {
   "display_name": "Python 3 (ipykernel)",
   "language": "python",
   "name": "python3"
  },
  "language_info": {
   "codemirror_mode": {
    "name": "ipython",
    "version": 3
   },
   "file_extension": ".py",
   "mimetype": "text/x-python",
   "name": "python",
   "nbconvert_exporter": "python",
   "pygments_lexer": "ipython3",
   "version": "3.12.4"
  }
 },
 "nbformat": 4,
 "nbformat_minor": 5
}
